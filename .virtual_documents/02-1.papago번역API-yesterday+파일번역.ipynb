


from requests import Request, Session

NAVER_CLIENT_ID = 'ZAZjlfXS4P5FW5DtE0wg'
NAVER_CLIENT_SECRET = 'RNbe1ikysg'


def get_text_list():
    lists = []
    with open('data/yesterday.txt', 'r',encoding="utf8") as file:
        contents = file.read()
        lists = contents.split("\n")

    return lists

def save_to_file(list):
    with open('data/yesterday.translated_ver2.txt', 'w',encoding="utf8") as file:
        file.writelines(list)

def main():
    # session 객체생성
    session = Session()
    # 요청헤더 dict 선언
    headers = {
        'X-Naver-Client-Id': NAVER_CLIENT_ID,
        'X-Naver-Client-Secret': NAVER_CLIENT_SECRET,
    }
    url = 'https://openapi.naver.com/v1/papago/n2mt'

    lists = get_text_list()
    lists = [ i for i in lists if len(i) != 0] # '' 문자열 제거

    result_list = []
    payload = {
        'source': 'en',
        'target': 'ko',
    }
    for en_text in lists:
        payload['text'] = en_text
        # request 객체생성
        req = Request('POST', url, data=payload, headers=headers)
        # PreparedRequest 객체생성
        prepared = req.prepare()
        #print(type(prepared))
        # request를 보내고 response 객체생성
        res = session.send(prepared)
        
        print('send original text : ', en_text)
        ko_text = ''
        
        try:
            ko_text = res.json()['message']['result']['translatedText']
        except Exception as err:
            print('에러 발생 ',res.json())
            break

        print('translated to : ', ko_text)
        result_list.append(en_text+ '\n')
        result_list.append(ko_text + '\n')

    save_to_file(result_list)
    print('job completed..')


main()

