


!pip3 show lxml


import requests
from bs4 import BeautifulSoup

url = 'http://www.kma.go.kr/weather/forecast/mid-term-rss3.jsp'

res = requests.get(url)
print(res.status_code)

if res.ok:
    soup = BeautifulSoup(res.text, features='xml')
    
    title_tag = soup.find('title')
    print(type(title_tag), title_tag, title_tag.text)
    
    title_all_tag = soup.find_all('title')
    print(type(title_all_tag), title_all_tag)
    
    location_tag = soup.find('location', attrs={'wl_ver':3})
    print('==find() ', type(location_tag))

    location_tag2 = soup.select_one("location[wl_ver='3']")
    print('==select_one() ',type(location_tag2))

    loc_tag_all = soup.findAll('location', attrs={'wl_ver':3})
    print('==find_all() ', type(loc_tag_all), len(loc_tag_all))

    loc_tag_all2 = soup.select("location[wl_ver='3']")
    print('==select() ', type(loc_tag_all2))


'''
<location wl_ver="3">
    <province>서울ㆍ인천ㆍ경기도</province>
    <city>서울</city>
    <data>
        <mode>A02</mode>
        <tmEf>2022-08-28 00:00</tmEf>
        <wf>맑음</wf>
        <tmn>18</tmn>
        <tmx>28</tmx>
        <reliability/>
        <rnSt>0</rnSt>
    </data>
    <data>
        <mode>A02</mode>
        <tmEf>2022-08-28 12:00</tmEf>
        <wf>구름많음</wf>
        <tmn>18</tmn>
        <tmx>28</tmx>
        <reliability/>
        <rnSt>30</rnSt>
    </data>
</location>
{
  "province":"서울ㆍ인천ㆍ경기도",
  "city":"서울",
  "datas":[{"mode:"A02”,"tmEf”:"2022-01-31 00:00”,"wf":"맑음"},
            {"mode:"A02”,"tmEf”:"2022-01-31 12:00”,"wf":"구름많음"},{},{}]
}
'''





import requests
from bs4 import BeautifulSoup

url = 'http://www.kma.go.kr/weather/forecast/mid-term-rss3.jsp'
res = requests.get(url)
if res.ok:
    soup = BeautifulSoup(res.text, features='xml')
    location_dict = {}
    location_tag = soup.find('location', attrs={'wl_ver': 3})
    location_dict['province'] = location_tag.find('province').text
    location_dict['city'] = location_tag.find('city').text
    data_tags = location_tag.findAll('data')
    data_list = []
    for data_tag in data_tags:        
        data_dict = {"mode" : data_tag.find('mode').text}
        data_dict['tmEf'] = data_tag.find('tmEf').text
        data_dict['wf'] = data_tag.find('wf').text
        data_dict['tmn'] = data_tag.find('tmn').text
        data_dict['tmx'] = data_tag.find('tmx').text
        data_list.append(data_dict)
    location_dict['datas'] = data_list
    print(location_dict.values())






import requests
from bs4 import BeautifulSoup

url = 'http://www.kma.go.kr/weather/forecast/mid-term-rss3.jsp'
res = requests.get(url)
if res.ok:
    soup = BeautifulSoup(res.text, features='xml')
    location_list = []
    location_tags = soup.findAll('location', attrs={'wl_ver': 3})
    for location_tag in location_tags:
        location_dict = {}
        location_dict['province'] = location_tag.find('province').text
        location_dict['city'] = location_tag.find('city').text
        data_tags = location_tag.findAll('data')
        data_list = []
        for data_tag in data_tags:        
            data_dict = {"mode" : data_tag.find('mode').text}
            data_dict['tmEf'] = data_tag.find('tmEf').text
            data_dict['wf'] = data_tag.find('wf').text
            data_dict['tmn'] = data_tag.find('tmn').text
            data_dict['tmx'] = data_tag.find('tmx').text
            data_list.append(data_dict)
        location_dict['datas'] = data_list
        location_list.append(location_dict)
    print(location_list)


import warnings
warnings.filterwarnings('ignore')





import json

with open('data/weather.json', 'w', encoding='utf-8') as file:
    json.dump(location_list, file)






