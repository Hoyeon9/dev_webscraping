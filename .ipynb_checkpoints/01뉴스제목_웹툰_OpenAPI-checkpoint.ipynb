{
 "cells": [
  {
   "cell_type": "markdown",
   "id": "eb0bfa44",
   "metadata": {},
   "source": [
    "## 1. 뉴스제목 가져오기\n",
    "* user-agent 요청헤더를 반드시 설정해야 한다."
   ]
  },
  {
   "cell_type": "code",
   "execution_count": 1,
   "id": "f0d27781",
   "metadata": {},
   "outputs": [
    {
     "name": "stdout",
     "output_type": "stream",
     "text": [
      "Name: requests\n",
      "Version: 2.32.2\n",
      "Summary: Python HTTP for Humans.\n",
      "Home-page: https://requests.readthedocs.io\n",
      "Author: Kenneth Reitz\n",
      "Author-email: me@kennethreitz.org\n",
      "License: Apache-2.0\n",
      "Location: C:\\Users\\gcoh0\\anaconda3\\Lib\\site-packages\n",
      "Requires: certifi, charset-normalizer, idna, urllib3\n",
      "Required-by: anaconda-catalogs, anaconda-client, anaconda-cloud-auth, anaconda-project, conda, conda-build, conda-repo-cli, conda_package_streaming, cookiecutter, datashader, intake, jupyterlab_server, panel, requests-file, requests-toolbelt, Sphinx, streamlit, tldextract\n"
     ]
    }
   ],
   "source": [
    "!pip show requests"
   ]
  },
  {
   "cell_type": "code",
   "execution_count": 2,
   "id": "f7798ea8",
   "metadata": {},
   "outputs": [
    {
     "name": "stdout",
     "output_type": "stream",
     "text": [
      "Name: beautifulsoup4\n",
      "Version: 4.12.3\n",
      "Summary: Screen-scraping library\n",
      "Home-page: \n",
      "Author: \n",
      "Author-email: Leonard Richardson <leonardr@segfault.org>\n",
      "License: MIT License\n",
      "Location: C:\\Users\\gcoh0\\anaconda3\\Lib\\site-packages\n",
      "Requires: soupsieve\n",
      "Required-by: conda-build, nbconvert\n"
     ]
    }
   ],
   "source": [
    "!pip show beautifulsoup4"
   ]
  },
  {
   "cell_type": "code",
   "execution_count": 3,
   "id": "bf80a429",
   "metadata": {},
   "outputs": [],
   "source": [
    "import requests\n",
    "import bs4\n",
    "from bs4 import BeautifulSoup"
   ]
  },
  {
   "cell_type": "code",
   "execution_count": 4,
   "id": "9788d6ac",
   "metadata": {},
   "outputs": [
    {
     "name": "stdout",
     "output_type": "stream",
     "text": [
      "request ver 2.32.2\n",
      "beautifulsoup 4.12.3\n"
     ]
    }
   ],
   "source": [
    "print(f'request ver {requests.__version__}' )\n",
    "print('beautifulsoup {}'.format(bs4.__version__))"
   ]
  },
  {
   "cell_type": "markdown",
   "id": "ccb91def-cde3-4aeb-b0e5-2e7233500333",
   "metadata": {},
   "source": [
    "### 1. 뉴스 제목 추출하기"
   ]
  },
  {
   "cell_type": "code",
   "execution_count": 27,
   "id": "94c12fd6",
   "metadata": {
    "scrolled": true
   },
   "outputs": [
    {
     "name": "stdout",
     "output_type": "stream",
     "text": [
      "88\n",
      "<class 'bs4.element.Tag'>\n",
      "“편의점 알바보다 열악한 처우” 이공계 석박사…연구생활장려금 지급, 숨통 트일까: https://n.news.naver.com/mnews/article/016/0002345560\n",
      "-----------\n",
      "<class 'bs4.element.Tag'>\n",
      "애플이 왜?…‘아이폰16’ 한국서 최초 출시 결정, 시기는?[핫이슈]: https://n.news.naver.com/mnews/article/081/0003469797\n",
      "-----------\n",
      "<class 'bs4.element.Tag'>\n",
      "세계 스마트폰 시장 3년 만에 회복세…삼성, 2위 애플과 격차 확대 전망: https://n.news.naver.com/mnews/article/374/0000396118\n",
      "-----------\n",
      "<class 'bs4.element.Tag'>\n",
      "엔씨소프트 2Q 영업익 88억원…전년比 75% 감소: https://n.news.naver.com/mnews/article/421/0007711036\n",
      "-----------\n",
      "<class 'bs4.element.Tag'>\n",
      "KISA, 구글·네이버 등과 '브라우저 안전 이용' 캠페인: https://n.news.naver.com/mnews/article/018/0005805475\n",
      "-----------\n",
      "<class 'bs4.element.Tag'>\n",
      "더존비즈온, 2분기도 성장세 이어가… 매출 994억, 영업익 204억: https://n.news.naver.com/mnews/article/366/0001009849\n",
      "-----------\n",
      "<class 'bs4.element.Tag'>\n",
      "SKT, 세계적 권위 정보 검색 학회서 AI 기술 우수성 입증: https://n.news.naver.com/mnews/article/014/0005223062\n",
      "-----------\n",
      "<class 'bs4.element.Tag'>\n",
      "SK C&C, 베트남 ‘FPT IS’와 MOU…디지털 ESG 서비스 공동개발 및 마케팅 협력: https://n.news.naver.com/mnews/article/021/0002652458\n",
      "-----------\n",
      "<class 'bs4.element.Tag'>\n",
      "삼성전자, '루비콘 프로젝트' 띄운다…MS·구글·팔란티어 3파전: https://n.news.naver.com/mnews/article/030/0003229219\n",
      "-----------\n",
      "<class 'bs4.element.Tag'>\n",
      "최재원 SK 수석부회장 장남, E&S 북미법인 입사: https://n.news.naver.com/mnews/article/092/0002340936\n",
      "-----------\n",
      "<class 'bs4.element.Tag'>\n",
      "이공계 대학원생에 최대 110만원 지급: https://n.news.naver.com/mnews/article/014/0005223425\n",
      "-----------\n",
      "<class 'bs4.element.Tag'>\n",
      "\"적자는 면했다\"...엔씨, 2분기 영업이익 88억원: https://n.news.naver.com/mnews/article/008/0005073094\n",
      "-----------\n",
      "<class 'bs4.element.Tag'>\n",
      "5년만의 40도 돌파…'사상 최악' 2018년 기록 넘어설까?: https://n.news.naver.com/mnews/article/584/0000028180\n",
      "-----------\n",
      "<class 'bs4.element.Tag'>\n",
      "엔씨, 적자 간신히 면했다…2Q 영업익 88억(상보): https://n.news.naver.com/mnews/article/277/0005455213\n",
      "-----------\n",
      "<class 'bs4.element.Tag'>\n",
      "코스피·코스닥 줄이어 서킷브레이커 발동: https://n.news.naver.com/mnews/article/092/0002340932\n",
      "-----------\n",
      "<class 'bs4.element.Tag'>\n",
      "엔씨소프트, 적자 면했다… 2분기 영업이익 88억원: https://n.news.naver.com/mnews/article/138/0002179213\n",
      "-----------\n",
      "<class 'bs4.element.Tag'>\n",
      "韓, 반도체 대중 수출 늘자… 中 “美 수출 제재 한계 드러나”: https://n.news.naver.com/mnews/article/366/0001009937\n",
      "-----------\n",
      "<class 'bs4.element.Tag'>\n",
      "‘아재 입맛’인 줄 알았는데…믹스커피 MZ 업고 뜨나: https://n.news.naver.com/mnews/article/092/0002340930\n",
      "-----------\n",
      "<class 'bs4.element.Tag'>\n",
      "네이버 '쇼핑 검색광고' 타고 온 '파워적립' 8년 만에 폐지: https://n.news.naver.com/mnews/article/018/0005805500\n",
      "-----------\n",
      "<class 'bs4.element.Tag'>\n",
      "한국 양궁 금메달 5개 '싹쓸이'...비결은?: https://n.news.naver.com/mnews/article/092/0002340929\n",
      "-----------\n",
      "<class 'bs4.element.Tag'>\n",
      "[단독] 찜통더위 부른 북태평양 고기압…한중일 손잡고 예측 정확성 높인다: https://n.news.naver.com/mnews/article/366/0001009933\n",
      "-----------\n",
      "<class 'bs4.element.Tag'>\n",
      "곤두박질치는 비트코인…'트럼프 약발' 보단 'R의 공포': https://n.news.naver.com/mnews/article/018/0005805497\n",
      "-----------\n",
      "<class 'bs4.element.Tag'>\n",
      "서브컬처 도전한다...엔씨, 빅게임스튜디오 지분 투자: https://n.news.naver.com/mnews/article/029/0002892829\n",
      "-----------\n",
      "<class 'bs4.element.Tag'>\n",
      "이통3사 2분기 합산 영업익 예상 1.3조…전환지원금 타격 적었다: https://n.news.naver.com/mnews/article/003/0012710549\n",
      "-----------\n",
      "<class 'bs4.element.Tag'>\n",
      "배터리 화재 키우는 '열폭주' 억제 방법 찾았다: https://n.news.naver.com/mnews/article/584/0000028179\n",
      "-----------\n",
      "<class 'bs4.element.Tag'>\n",
      "티빙, 토종 OTT 1위 굳히기.. 쿠플, EPL로 만회 나선다: https://n.news.naver.com/mnews/article/014/0005223409\n",
      "-----------\n",
      "<class 'bs4.element.Tag'>\n",
      "M7 주가폭락에 실망한 투자자…\"인내심 한계 달했다\": https://n.news.naver.com/mnews/article/092/0002340926\n",
      "-----------\n",
      "<class 'bs4.element.Tag'>\n",
      "유라클, 수요예측 경쟁률 1065.8대 1…공모가 2만1000원 확정: https://n.news.naver.com/mnews/article/138/0002179208\n",
      "-----------\n",
      "<class 'bs4.element.Tag'>\n",
      "\"뭘로 결제했더라\"…티메프 환불, 페이·카드 희비 엇갈린다: https://n.news.naver.com/mnews/article/018/0005805482\n",
      "-----------\n",
      "<class 'bs4.element.Tag'>\n",
      "엔씨, 빅게임스튜디오 370억 규모 지분·판권 투자: https://n.news.naver.com/mnews/article/003/0012710504\n",
      "-----------\n",
      "<class 'bs4.element.Tag'>\n",
      "한국금거래소 “티메프 미정산 이슈, 유동성 영향 없다…매출 영향 미미”: https://n.news.naver.com/mnews/article/138/0002179207\n",
      "-----------\n",
      "<class 'bs4.element.Tag'>\n",
      "아이폰, 이제야 한국 대우하나…신작 '1차 출시국' 포함된다: https://n.news.naver.com/mnews/article/015/0005018184\n",
      "-----------\n",
      "<class 'bs4.element.Tag'>\n",
      "혼돈의 방송통신위원회와 ‘애국자가 없는 세상’: https://n.news.naver.com/mnews/article/092/0002340921\n",
      "-----------\n",
      "<class 'bs4.element.Tag'>\n",
      "청라 화재서 촉발된 '中 배터리 포비아'…韓 3사 대체 가능성은 [소부장박대리]: https://n.news.naver.com/mnews/article/138/0002179205\n",
      "-----------\n",
      "<class 'bs4.element.Tag'>\n",
      "말라리아·일본뇌염 모기 2배 넘게 급증…가장 확실한 예방법은: https://n.news.naver.com/mnews/article/421/0007710891\n",
      "-----------\n",
      "<class 'bs4.element.Tag'>\n",
      "“편의점 알바보다 열악한 처우” 이공계 석박사…연구생활장려금 지급, 숨통 트일까: https://n.news.naver.com/mnews/article/016/0002345560\n",
      "-----------\n",
      "<class 'bs4.element.Tag'>\n",
      "전기차 배터리 열폭주 막을 방법 찾았다: https://n.news.naver.com/mnews/article/366/0001009912\n",
      "-----------\n",
      "<class 'bs4.element.Tag'>\n",
      "\"美 상무부, 자율주행차 중국SW 사용 금지 규정 이달 발표 예정\": https://n.news.naver.com/mnews/article/029/0002892817\n",
      "-----------\n",
      "<class 'bs4.element.Tag'>\n",
      "이공계 대학원생에 매달 80~110만원 지급…연구비 관리제도 개선: https://n.news.naver.com/mnews/article/001/0014855246\n",
      "-----------\n",
      "<class 'bs4.element.Tag'>\n",
      "全 종목 '금메달' 석권 양궁…정의선 회장 40년 함께했다: https://n.news.naver.com/mnews/article/092/0002340919\n",
      "-----------\n",
      "<class 'bs4.element.Tag'>\n",
      "\"언제까지 이렇게 덥나\"…기상청 대신 인기 폭발한 날씨앱: https://n.news.naver.com/mnews/article/008/0005073035\n",
      "-----------\n",
      "<class 'bs4.element.Tag'>\n",
      "美, 자율주행차에 중국산 SW·통신모듈 탑재 금지 추진: https://n.news.naver.com/mnews/article/011/0004376131\n",
      "-----------\n",
      "<class 'bs4.element.Tag'>\n",
      "韓 해킹한 자료로 공장·지방개발 하려는 北... 北해커들 이곳 노린다: https://n.news.naver.com/mnews/article/008/0005073031\n",
      "-----------\n",
      "<class 'bs4.element.Tag'>\n",
      "코오롱바이오텍, 골관절염 치료제 ‘TG-C’ 대량 생산 공정 개발: https://n.news.naver.com/mnews/article/018/0005805447\n",
      "-----------\n"
     ]
    }
   ],
   "source": [
    "# IT/과학 뉴스\n",
    "req_param = {\n",
    "    's_id': 105\n",
    "}\n",
    "url = 'https://news.naver.com/section/{s_id}'.format(**req_param)\n",
    "# 요청 헤더 설정 : 브라우저 정보\n",
    "req_header = {\n",
    "    'user-agent': 'Mozilla/5.0 (Windows NT 10.0; Win64; x64) AppleWebKit/537.36 (KHTML, like Gecko) Chrome/104.0.0.0 Safari/537.36'\n",
    "}\n",
    "\n",
    "res = requests.get(url, headers=req_header)\n",
    "if res.ok:\n",
    "    soup = BeautifulSoup(res.text, \"html.parser\")\n",
    "    #print(len(soup.select(\"a[href*='https://n.news.naver.com/mnews/article/']\")))\n",
    "    print(len(soup.select(\"div.sa_text a[href*='https://n.news.naver.com/mnews/article/']\")))\n",
    "    atag_list = soup.select(\"div.sa_text a.sa_text_title\")\n",
    "    for atag in atag_list:\n",
    "        print(type(atag))\n",
    "        title = atag.text.strip()\n",
    "        url = atag['href']\n",
    "        print(f'{title}: {url}')\n",
    "        print('-----------')\n",
    "else:\n",
    "    print(f'Error: {res.status_code}')\n"
   ]
  },
  {
   "cell_type": "code",
   "execution_count": 30,
   "id": "4461b9cc",
   "metadata": {},
   "outputs": [],
   "source": [
    "section_dict = {100:'정치',101:'경제',102:'사회',103:'생활/문화',104:'세계',105:'IT/과학'}"
   ]
  },
  {
   "cell_type": "markdown",
   "id": "45640860-a449-4285-90d7-5f300292b461",
   "metadata": {},
   "source": [
    "### 1.1 뉴스제목 추출하는 함수 선언하기"
   ]
  },
  {
   "cell_type": "code",
   "execution_count": 40,
   "id": "9f2e4ef8",
   "metadata": {
    "scrolled": true
   },
   "outputs": [],
   "source": [
    "import requests\n",
    "from bs4 import BeautifulSoup\n",
    "\n",
    "def print_news(sid, section):    \n",
    "    # 요청 Parameter\n",
    "    req_param = {\n",
    "    'sid': sid\n",
    "    }\n",
    "    url = 'https://news.naver.com/section/{sid}'.format(**req_param)\n",
    "    \n",
    "    print(f'======> {url} {section} 뉴스 <======')\n",
    "    \n",
    "    # 요청 헤더 설정 : 브라우저 정보\n",
    "    req_header = {\n",
    "        'user-agent': 'Mozilla/5.0 (Windows NT 10.0; Win64; x64) AppleWebKit/537.36 (KHTML, like Gecko) Chrome/104.0.0.0 Safari/537.36'\n",
    "    }\n",
    "    res = requests.get(url, headers=req_header)\n",
    "    if res.ok:\n",
    "        soup = BeautifulSoup(res.text, \"html.parser\")\n",
    "        atag_list = soup.select(\"div.sa_text a.sa_text_title\")\n",
    "        for atag in atag_list:\n",
    "            title = atag.text.strip()\n",
    "            url = atag['href']\n",
    "            print(f'{title}: {url}')\n",
    "            print('-----------')\n",
    "    else:\n",
    "        print(f'Error: {res.status_code}')\n",
    "    "
   ]
  },
  {
   "cell_type": "code",
   "execution_count": 41,
   "id": "858952c6",
   "metadata": {
    "scrolled": true
   },
   "outputs": [
    {
     "name": "stdout",
     "output_type": "stream",
     "text": [
      "======> https://news.naver.com/section/103 생활/문화 뉴스 <======\n",
      "7월 수입차 등록, 작년보다 4%↑…하이브리드차, 절반 육박: https://n.news.naver.com/mnews/article/055/0001178728\n",
      "-----------\n",
      "현대차 군산 인증중고차 센터 개소…월 최대 400대 상품화: https://n.news.naver.com/mnews/article/011/0004375964\n",
      "-----------\n",
      "베르디의 가장 매혹적인 주인공, 오텔로가 온다: https://n.news.naver.com/mnews/article/025/0003377661\n",
      "-----------\n",
      "전국 대부분 지역 폭염경보…요란한 소나기 유의[날씨]: https://n.news.naver.com/mnews/article/422/0000674739\n",
      "-----------\n",
      "BMW코리아, 뉴 M4 컴페티션 M xDrive 쿠페·컨버터블 출시: https://n.news.naver.com/mnews/article/031/0000859396\n",
      "-----------\n",
      "GD, 예술인재 후원·마약 퇴치 재단 ‘저스피스 재단’ 출범: https://n.news.naver.com/mnews/article/009/0005345576\n",
      "-----------\n",
      "멸치 '조금', 생선 '한 토막'…초4 아들에 '저속노화' 식단 논란: https://n.news.naver.com/mnews/article/031/0000859381\n",
      "-----------\n",
      "8월 눈병·귓병 가장 많아…\"물놀이 시 주의 필요\": https://n.news.naver.com/mnews/article/584/0000028181\n",
      "-----------\n",
      "소리 없이 찾아오는 ‘협심증’… 위험 알려주는 인공지능 개발돼: https://n.news.naver.com/mnews/article/346/0000078428\n",
      "-----------\n",
      "[내일 날씨] \"낮 최고 35도\"… 전국 '폭염' 주의하세요: https://n.news.naver.com/mnews/article/417/0001018906\n",
      "-----------\n",
      "황보라, \"얼굴에 뭘 붙인 거야?\"...피부 진정된다지만 오래 놔뒀다간: https://n.news.naver.com/mnews/article/296/0000080556\n",
      "-----------\n",
      "\"30년 동안 잠을 안잤다고?\"...밤낮 깨어있다는 40대女, 어떻게 가능?: https://n.news.naver.com/mnews/article/296/0000080555\n",
      "-----------\n",
      "아에로멕시코, '인천~멕시코시티' 직항 2년 만에 재개: https://n.news.naver.com/mnews/article/421/0007710987\n",
      "-----------\n",
      "7월 수입차 BMW 1위 탈환…벤츠·테슬라와 격차 벌려: https://n.news.naver.com/mnews/article/092/0002340922\n",
      "-----------\n",
      "[르포]\"쪄 죽겠다\"…대청호 수해 쓰레기 수거 현장 더위와 전쟁: https://n.news.naver.com/mnews/article/001/0014855300\n",
      "-----------\n",
      "최소 열흘은 펄펄 끓을 한반도…역대 최고기온 '41도' 갈아 치울까: https://n.news.naver.com/mnews/article/469/0000816123\n",
      "-----------\n",
      "[날씨] 이틀 연속 40℃ 육박 폭염...'한증막 더위' 10일 이상 더 간다: https://n.news.naver.com/mnews/article/052/0002070328\n",
      "-----------\n",
      "[날씨] 한낮 체감온도 35도 안팎…내륙 중심 소나기: https://n.news.naver.com/mnews/article/422/0000674747\n",
      "-----------\n",
      "[르포] \"냉토시 안에도 땀이 줄줄\"…부산 피서지도 '헉헉': https://n.news.naver.com/mnews/article/001/0014855252\n",
      "-----------\n",
      "\"피 한 방울로 신장이식 환자 이식 거부 반응 확인 가능\": https://n.news.naver.com/mnews/article/346/0000078424\n",
      "-----------\n",
      "유전자 돌연변이 없는 난소암, 면역항암제 치료 가능성 제시: https://n.news.naver.com/mnews/article/346/0000078422\n",
      "-----------\n",
      "올해 열대야 12일 달해…'사상 최악 폭염' 2018년보다 많아: https://n.news.naver.com/mnews/article/001/0014855230\n",
      "-----------\n",
      "5초 만에 폐암 확인… ‘이 손가락 테스트’ 아시나요?: https://n.news.naver.com/mnews/article/346/0000078419\n",
      "-----------\n",
      "[날씨] 서울 낮 체감 35℃...찜통 더위? 시원한 계곡은 달라요!: https://n.news.naver.com/mnews/article/052/0002070314\n",
      "-----------\n",
      "\"샤넬은 살 만큼 샀다\"…요즘 잘나가는 '금수저룩' [안혜원의 명품의세계]: https://n.news.naver.com/mnews/article/015/0005018165\n",
      "-----------\n",
      "혈당 조절 위해 ‘이 식습관’ 바꿨더니... 체중에 큰 변화가?: https://n.news.naver.com/mnews/article/296/0000080550\n",
      "-----------\n",
      "'이 암' 극복하고, 아버지와 1600km 자전거 완주 목표… 英 소년, 사연 봤더니?: https://n.news.naver.com/mnews/article/346/0000078418\n",
      "-----------\n",
      "[날씨] 전국 대부분 지역 폭염경보…요란한 소나기 유의: https://n.news.naver.com/mnews/article/422/0000674739\n",
      "-----------\n",
      "찬 음식 먹었더니 설사 줄줄… ‘이때’ 먹으면 도움 되는 음식 3: https://n.news.naver.com/mnews/article/346/0000078416\n",
      "-----------\n",
      "태극기 휘날린 대한민국 양궁… 현대차그룹 첨단기술 ‘적중’: https://n.news.naver.com/mnews/article/020/0003580327\n",
      "-----------\n",
      "[날씨] 이틀째 40℃ 육박 극한 폭염...도로 표면 온도는?: https://n.news.naver.com/mnews/article/052/0002070300\n",
      "-----------\n",
      "폭염에 지난주 평일 4백여명 응급실행…4명 사망: https://n.news.naver.com/mnews/article/374/0000396098\n",
      "-----------\n",
      "“국내에서만 유행하는 일본뇌염바이러스(5형), 기존 바이러스보다 더 치명적”: https://n.news.naver.com/mnews/article/022/0003957238\n",
      "-----------\n",
      "[날씨] 밤낮 가리지 않는 무더위…전국 폭염특보 발효 중: https://n.news.naver.com/mnews/article/422/0000674731\n",
      "-----------\n",
      "\"주말에만 5명 숨졌다\"…'살인 폭염'에 올해 온열질환 사망자 13명: https://n.news.naver.com/mnews/article/011/0004376111\n",
      "-----------\n",
      "계곡에 사는 가재를 꼬시는 엉뚱한 노래: https://n.news.naver.com/mnews/article/047/0002441996\n",
      "-----------\n",
      "나이 들수록 男이 신경 써야 할 것들...컨디션 최상으로 유지하려면?: https://n.news.naver.com/mnews/article/296/0000080548\n",
      "-----------\n",
      "한국에만 있는 '5형 일본뇌염', 기존 백신으론 방어 못해: https://n.news.naver.com/mnews/article/584/0000028176\n",
      "-----------\n",
      "배우 황승언, 수영복 입고 ‘애플힙’ 뒤태 뽐내… 평소 먹는 식단 뭘까?: https://n.news.naver.com/mnews/article/346/0000078414\n",
      "-----------\n",
      "‘안정형 협심증’도 관상동맥질환 예측 성공: https://n.news.naver.com/mnews/article/016/0002345496\n",
      "-----------\n",
      "[날씨] 서울 체감 35℃...찜통 더위? 시원한 계곡은 달라요!: https://n.news.naver.com/mnews/article/052/0002070282\n",
      "-----------\n",
      "[날씨] '덥다 더워', 극한 폭염 속 도로 표면 온도 50℃ 육박: https://n.news.naver.com/mnews/article/052/0002070281\n",
      "-----------\n"
     ]
    }
   ],
   "source": [
    "print_news(103,section_dict[103])"
   ]
  },
  {
   "cell_type": "code",
   "execution_count": null,
   "id": "c22c86fa-42cc-4019-8551-364062e7a93c",
   "metadata": {},
   "outputs": [],
   "source": []
  },
  {
   "cell_type": "markdown",
   "id": "323196dc",
   "metadata": {},
   "source": [
    "### 2. Image 다운로드\n",
    "* referer 요청 헤더를 반드시 설정해야 한다."
   ]
  },
  {
   "cell_type": "code",
   "execution_count": 63,
   "id": "c72d6cb1",
   "metadata": {},
   "outputs": [
    {
     "name": "stdout",
     "output_type": "stream",
     "text": [
      "writing to 20220804112251_d97bd1e1b38f0cd022e4e3639d2926b3_IMAG01_1.jpg (299319)\n",
      "writing to 20220804112251_d97bd1e1b38f0cd022e4e3639d2926b3_IMAG01_2.jpg (163333)\n",
      "writing to 20220804112251_d97bd1e1b38f0cd022e4e3639d2926b3_IMAG01_3.jpg (182530)\n"
     ]
    }
   ],
   "source": [
    "import requests\n",
    "import os\n",
    "\n",
    "req_header = {\n",
    "    'referer':'https://comic.naver.com/webtoon/detail?titleId=798173&no=5&amp;weekday=thu'\n",
    "}\n",
    "img_urls = [\n",
    "    'https://image-comic.pstatic.net/webtoon/798173/5/20220804112251_d97bd1e1b38f0cd022e4e3639d2926b3_IMAG01_1.jpg',\n",
    "    'https://image-comic.pstatic.net/webtoon/798173/5/20220804112251_d97bd1e1b38f0cd022e4e3639d2926b3_IMAG01_2.jpg',\n",
    "    'https://image-comic.pstatic.net/webtoon/798173/5/20220804112251_d97bd1e1b38f0cd022e4e3639d2926b3_IMAG01_3.jpg'\n",
    "]\n",
    "for img_url in img_urls:\n",
    "    res = requests.get(img_url, headers=req_header)\n",
    "    if res.ok:\n",
    "        img_data = res.content\n",
    "        file_name = os.path.basename(img_url)\n",
    "        with open(file_name, 'wb') as file:\n",
    "            print(f'writing to {file_name} ({len(img_data)})')\n",
    "            file.write(img_data)\n"
   ]
  },
  {
   "cell_type": "markdown",
   "id": "e8b00a04",
   "metadata": {},
   "source": [
    "* 현재 요청된 페이지의 image 모두 다운로드 해보기"
   ]
  },
  {
   "cell_type": "code",
   "execution_count": 74,
   "id": "b30f7bf5",
   "metadata": {},
   "outputs": [
    {
     "name": "stdout",
     "output_type": "stream",
     "text": [
      "writing to 20240226100634_548bfa8f14799d53d45b5f12df1b289e_IMAG01_1.jpg (128897)\n",
      "writing to 20240226100634_548bfa8f14799d53d45b5f12df1b289e_IMAG01_2.jpg (143194)\n",
      "writing to 20240226100634_548bfa8f14799d53d45b5f12df1b289e_IMAG01_3.jpg (101900)\n",
      "writing to 20240226100634_548bfa8f14799d53d45b5f12df1b289e_IMAG01_4.jpg (112007)\n",
      "writing to 20240226100634_548bfa8f14799d53d45b5f12df1b289e_IMAG01_5.jpg (190876)\n",
      "writing to 20240226100634_548bfa8f14799d53d45b5f12df1b289e_IMAG01_6.jpg (134590)\n",
      "writing to 20240226100634_548bfa8f14799d53d45b5f12df1b289e_IMAG01_7.jpg (132910)\n",
      "writing to 20240226100634_548bfa8f14799d53d45b5f12df1b289e_IMAG01_8.jpg (174434)\n",
      "writing to 20240226100634_548bfa8f14799d53d45b5f12df1b289e_IMAG01_9.jpg (88576)\n",
      "writing to 20240226100634_548bfa8f14799d53d45b5f12df1b289e_IMAG01_10.jpg (177240)\n",
      "writing to 20240226100634_548bfa8f14799d53d45b5f12df1b289e_IMAG01_11.jpg (95130)\n",
      "writing to 20240226100634_548bfa8f14799d53d45b5f12df1b289e_IMAG01_12.jpg (109718)\n",
      "writing to 20240226100634_548bfa8f14799d53d45b5f12df1b289e_IMAG01_13.jpg (144476)\n",
      "writing to 20240226100634_548bfa8f14799d53d45b5f12df1b289e_IMAG01_14.jpg (127739)\n",
      "writing to 20240226100634_548bfa8f14799d53d45b5f12df1b289e_IMAG01_15.jpg (143133)\n",
      "writing to 20240226100634_548bfa8f14799d53d45b5f12df1b289e_IMAG01_16.jpg (159328)\n",
      "writing to 20240226100634_548bfa8f14799d53d45b5f12df1b289e_IMAG01_17.jpg (139300)\n",
      "writing to 20240226100634_548bfa8f14799d53d45b5f12df1b289e_IMAG01_18.jpg (54967)\n"
     ]
    }
   ],
   "source": [
    "import requests\n",
    "import os\n",
    "\n",
    "webtoon_url = 'https://comic.naver.com/webtoon/detail?titleId=817945&no=37&week=mon'\n",
    "req_header = {\n",
    "    'referer': webtoon_url\n",
    "}\n",
    "res = requests.get(webtoon_url, req_header)\n",
    "if res.ok: #200\n",
    "    soup = BeautifulSoup(res.text, 'html.parser')\n",
    "    img_tag_list = soup.select(\"img[src*='IMAG01']\")\n",
    "    img_url_list = [img['src'] for img in img_tag_list]\n",
    "    for img_url in img_url_list:\n",
    "        res = requests.get(img_url, headers=req_header)\n",
    "        if res.ok:\n",
    "            img_data = res.content\n",
    "            file_name = os.path.basename(img_url)\n",
    "            with open(file_name, 'wb') as file:\n",
    "                print(f'writing to {file_name} ({len(img_data)})')\n",
    "                file.write(img_data)\n",
    "else:\n",
    "    print(res.status_code)"
   ]
  },
  {
   "cell_type": "markdown",
   "id": "2ac9f5f9",
   "metadata": {},
   "source": [
    "### 3. 파일 업로드 하기\n",
    "* http://httpbin.org/post 업로드 요청을 할 수 있는 url"
   ]
  },
  {
   "cell_type": "code",
   "execution_count": 17,
   "id": "04da4790",
   "metadata": {},
   "outputs": [],
   "source": []
  },
  {
   "cell_type": "markdown",
   "id": "7ad65f12",
   "metadata": {},
   "source": [
    "### 4. 단축 URL 생성하는 Open API 사용하기\n",
    "* urllib 사용"
   ]
  },
  {
   "cell_type": "code",
   "execution_count": null,
   "id": "abbb0ebf",
   "metadata": {},
   "outputs": [],
   "source": [
    "import os\n",
    "import sys\n",
    "import urllib.request\n",
    "\n",
    "client_id = \"V\" # 개발자센터에서 발급받은 Client ID 값\n",
    "client_secret = \"y_\" # 개발자센터에서 발급받은 Client Secret 값\n",
    "encText = urllib.parse.quote(\"https://drive.google.com/drive/u/0/folders/1V_DK7Px5w_niEKLlWhDr_GPgIYHG3Du-\")\n",
    "data = \"url=\" + encText\n",
    "url = \"https://openapi.naver.com/v1/util/shorturl\"\n",
    "\n",
    "request = urllib.request.Request(url)\n",
    "request.add_header(\"X-Naver-Client-Id\",client_id)\n",
    "request.add_header(\"X-Naver-Client-Secret\",client_secret)\n",
    "\n",
    "response = urllib.request.urlopen(request, data=data.encode(\"utf-8\"))\n",
    "rescode = response.getcode()\n",
    "if(rescode==200):\n",
    "    response_body = response.read()\n",
    "    print(response_body.decode('utf-8'))\n",
    "else:\n",
    "    print(\"Error Code:\" + rescode)\n"
   ]
  },
  {
   "cell_type": "markdown",
   "id": "b7d984a6",
   "metadata": {},
   "source": [
    "* requests를 사용하는 코드로 변경하기\n",
    "* [requests docs](https://requests.readthedocs.io/en/latest/user/quickstart/)"
   ]
  },
  {
   "cell_type": "code",
   "execution_count": null,
   "id": "727b427b",
   "metadata": {
    "scrolled": true
   },
   "outputs": [],
   "source": [
    "import requests\n",
    "\n",
    "client_id = \"V\" # 개발자센터에서 발급받은 Client ID 값\n",
    "client_secret = \"y_\" # 개발자센터에서 발급받은 Client Secret 값\n",
    "\n",
    "origin_url = \"https://drive.google.com/drive/u/0/folders/1V_DK7Px5w_niEKLlWhDr_GPgIYHG3Du-\"\n",
    "\n"
   ]
  },
  {
   "cell_type": "markdown",
   "id": "d5e1179a",
   "metadata": {},
   "source": [
    "### 5. 블로그 검색하기"
   ]
  },
  {
   "cell_type": "code",
   "execution_count": null,
   "id": "877d0c7f",
   "metadata": {},
   "outputs": [],
   "source": [
    "import requests\n",
    "import pprint\n",
    "\n",
    "headers = {\n",
    "    'X-Naver-Client-Id': 'V',\n",
    "    'X-Naver-Client-Secret': 'y_',\n",
    "}\n",
    "\n",
    "payload = {\n",
    "    'query': '파이썬',\n",
    "    'display': 100,\n",
    "    'sort': 'sim'\n",
    "}\n",
    "\n",
    "url = 'https://openapi.naver.com/v1/search/blog.json'\n",
    "\n",
    "res = requests.get(url, params=payload, headers=headers)\n",
    "items_data = res.json()['items']\n",
    "#print(items_data)\n",
    "\n",
    "items_list = list()\n",
    "item_list = []\n",
    "for item in items_data:\n",
    "#     print(item)\n",
    "    item_list.append(item['title'])\n",
    "    item_list.append(item['bloggername'])\n",
    "    item_list.append(item['description'])\n",
    "    item_list.append(item['bloggerlink'])\n",
    "    item_list.append(item['link'])\n",
    "\n",
    "    items_list.append(item_list)\n",
    "    item_list = []\n",
    "\n",
    "print(items_list)\n",
    "\n",
    "with open('data/nhnblog.txt','w',encoding=\"utf-8\")as file:\n",
    "    for items in items_list:\n",
    "        for item in items:\n",
    "            item = item + '\\n'\n",
    "            file.write(item)\n",
    "        file.write('-'*150+'\\n')"
   ]
  }
 ],
 "metadata": {
  "kernelspec": {
   "display_name": "Python 3 (ipykernel)",
   "language": "python",
   "name": "python3"
  },
  "language_info": {
   "codemirror_mode": {
    "name": "ipython",
    "version": 3
   },
   "file_extension": ".py",
   "mimetype": "text/x-python",
   "name": "python",
   "nbconvert_exporter": "python",
   "pygments_lexer": "ipython3",
   "version": "3.12.4"
  }
 },
 "nbformat": 4,
 "nbformat_minor": 5
}
