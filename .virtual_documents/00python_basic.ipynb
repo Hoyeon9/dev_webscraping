














lang = 'python'
myStr = '{} 언어'.format(lang)
myStr


myStr2 = f'{lang} 언어'
myStr2


val = 56784949494
format_val = f'{val:,}'
format_val


format_val = f'{val:.2f}'
format_val


## dict 연습
my_dict = {
    'name': '파이썬'
}
my_dict['addr'] = '서울'
for k in my_dict.keys():
    print(k,my_dict[k])
    
for k,v in my_dict.items():
    print(k, v)


# 함수에서 tuple을 반환
def swap(a,b):
    return (b,a)


(n1,n2) = swap(10,20)
print(n1)
print(n2)





squares = []
for i in range(10): #0~9
    if i % 2 == 0:
        squares.append(i * i)

print(squares)        


# list comprehension

squares2 = [i*i for i in range(10) if i % 2 == 0]
squares2


'H e l l o'.split(' ')


def get_text_list():
    lists = []
    with open('data/yesterday.txt', 'r',encoding="utf8") as file:
        contents = file.read()
        lists = contents.split("\n")

    return lists


lyric_list = get_text_list()
print(len(lyric_list))
lyric_list2 = [lyric for lyric in lyric_list if len(lyric) != 0]
print(len(lyric_list2))


my_list = ['a','b','c']
my_list[0:2]


my_list[2:]


my_list[:2]


# range() 와 numpy의 arange() 함수 비교
print(list(range(10)))
for data in range(10):
    print(data)


import numpy as np

np.arange(1,11)


#lambda x, loc: "{:,}".format(int(x)
def my_format(val):
    return "{:,}".format(int(val))


my_format("1028326272727")


result = lambda val:"{:,}".format(int(val))


result("38383823823940")


dt_list=['이름','취미','나이']
dd_list=['파이썬','독서','20']
for data in zip(dt_list,dd_list):
    print(data)


dict(zip(dt_list,dd_list))


#age = today.year - birth.year - ((today.month, today.day) < (birth.month, birth.day))
#calc_age(date(1990,1,1))   calc_age(date(1990,12,17)
(12,15) < (1,1)  # False0


(12,15) < (12,17) # True 1
